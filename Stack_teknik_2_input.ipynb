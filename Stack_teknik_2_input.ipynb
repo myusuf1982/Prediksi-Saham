{
  "nbformat": 4,
  "nbformat_minor": 0,
  "metadata": {
    "colab": {
      "provenance": [],
      "authorship_tag": "ABX9TyN7Yy6UO/8uhM3vHziRcAHO",
      "include_colab_link": true
    },
    "kernelspec": {
      "name": "python3",
      "display_name": "Python 3"
    },
    "language_info": {
      "name": "python"
    }
  },
  "cells": [
    {
      "cell_type": "markdown",
      "metadata": {
        "id": "view-in-github",
        "colab_type": "text"
      },
      "source": [
        "<a href=\"https://colab.research.google.com/github/myusuf1982/Prediksi-Saham/blob/main/Stack_teknik_2_input.ipynb\" target=\"_parent\"><img src=\"https://colab.research.google.com/assets/colab-badge.svg\" alt=\"Open In Colab\"/></a>"
      ]
    },
    {
      "cell_type": "code",
      "execution_count": null,
      "metadata": {
        "id": "7p9eSJUpRFNk"
      },
      "outputs": [],
      "source": [
        "\n",
        "from keras.layers import Input, LSTM, Dense, Concatenate\n",
        "from keras.models import Model"
      ]
    },
    {
      "cell_type": "code",
      "source": [
        "\n",
        "\n",
        "# Define the input shapes and hyperparameters\n",
        "timesteps = x #define the number of timesteps\n",
        "input_dim1 = y #define the size of the first input\n",
        "input_dim2 = z #define the size of the second input\n",
        "neurons = a #define the number of neurons in each LSTM layer\n",
        "dense_neurons = b #define the number of neurons in the dense layer\n",
        "num_epochs = c #define the number of training epochs\n",
        "batch_size = d #define the batch size\n",
        "\n",
        "# Define the input layers\n",
        "input1 = Input(shape=(timesteps, input_dim1))\n",
        "input2 = Input(shape=(timesteps, input_dim2))"
      ],
      "metadata": {
        "id": "npYGTFvhRRO3"
      },
      "execution_count": null,
      "outputs": []
    },
    {
      "cell_type": "code",
      "source": [
        "\n",
        "# Stack LSTM layers\n",
        "lstm1 = LSTM(units=neurons, return_sequences=True)(input1)\n",
        "lstm2 = LSTM(units=neurons, return_sequences=True)(input2)\n",
        "\n",
        "# Concatenate the LSTM layers\n",
        "concat = Concatenate()([lstm1, lstm2])\n",
        "\n",
        "# Add a dense layer\n",
        "dense = Dense(units=dense_neurons, activation='relu')(concat)"
      ],
      "metadata": {
        "id": "UDMZpaWuRabY"
      },
      "execution_count": null,
      "outputs": []
    },
    {
      "cell_type": "code",
      "source": [
        "\n",
        "# Create the model\n",
        "model = Model(inputs=[input1, input2], outputs=dense)\n",
        "\n",
        "# Compile the model\n",
        "model.compile(optimizer='adam', loss='binary_crossentropy', metrics=['accuracy'])"
      ],
      "metadata": {
        "id": "gpDZSrYgRhfy"
      },
      "execution_count": null,
      "outputs": []
    },
    {
      "cell_type": "code",
      "source": [
        "\n",
        "# Train the model\n",
        "\n",
        "model.fit([input1_train, input2_train], target_train, epochs=num_epochs, batch_size=batch_size)\n",
        "\n",
        "# Make predictions on new data\n",
        "\n",
        "predictions = model.predict([input1_test, input2_test])"
      ],
      "metadata": {
        "id": "6VgOEtHORmUx"
      },
      "execution_count": null,
      "outputs": []
    },
    {
      "cell_type": "code",
      "source": [
        "\n",
        "\n",
        "# Evaluate the model on new data\n",
        "score = model.evaluate([input1_test, input2_test], target_test, batch_size=batch_size)"
      ],
      "metadata": {
        "id": "pGaHzlfARrmj"
      },
      "execution_count": null,
      "outputs": []
    },
    {
      "cell_type": "code",
      "source": [
        "\n",
        "import matplotlib.pyplot as plt\n",
        "\n",
        "# Plot the predicted vs actual values\n",
        "\n",
        "plt.plot(target_test, label='Actual')\n",
        "\n",
        "plt.plot(predictions, label='Predicted')\n",
        "\n",
        "plt.legend()\n",
        "\n",
        "plt.show()"
      ],
      "metadata": {
        "id": "ngAhV3gSRyQh"
      },
      "execution_count": null,
      "outputs": []
    }
  ]
}
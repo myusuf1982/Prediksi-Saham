{
  "nbformat": 4,
  "nbformat_minor": 0,
  "metadata": {
    "colab": {
      "provenance": [],
      "authorship_tag": "ABX9TyP/xrzOWUlhi9Ziec/MLjs0",
      "include_colab_link": true
    },
    "kernelspec": {
      "name": "python3",
      "display_name": "Python 3"
    },
    "language_info": {
      "name": "python"
    }
  },
  "cells": [
    {
      "cell_type": "markdown",
      "metadata": {
        "id": "view-in-github",
        "colab_type": "text"
      },
      "source": [
        "<a href=\"https://colab.research.google.com/github/myusuf1982/Prediksi-Saham/blob/main/2_input_lstm_OK.ipynb\" target=\"_parent\"><img src=\"https://colab.research.google.com/assets/colab-badge.svg\" alt=\"Open In Colab\"/></a>"
      ]
    },
    {
      "cell_type": "code",
      "execution_count": null,
      "metadata": {
        "id": "OaSbDO9fWN9s"
      },
      "outputs": [],
      "source": [
        "import numpy as np\n",
        "import pandas as pd\n",
        "from keras.models import Sequential\n",
        "from keras.layers import Dense, LSTM\n",
        "from sklearn.preprocessing import MinMaxScaler\n",
        "import matplotlib.pyplot as plt\n",
        "from google.colab import drive\n",
        "drive.mount('/content/drive')"
      ]
    },
    {
      "cell_type": "code",
      "source": [
        "# load data\n",
        "data = pd.read_csv(\"/content/drive/My Drive/GOOG-year.csv\")\n",
        "data =data[:15] # Juml row maksimal yang mau diambil sample 15 row\n",
        "\n",
        "# memilih kolom open dan close saja\n",
        "data = data[['Open', 'Close','High']]   # all = Tanggal,Open,High,Low,Close,Adj Close,Volume\n",
        "\n",
        "data.head(3)"
      ],
      "metadata": {
        "colab": {
          "base_uri": "https://localhost:8080/",
          "height": 143
        },
        "id": "jSBB2TzCu9hI",
        "outputId": "0f049223-4e70-41f4-a281-bda42fe36232"
      },
      "execution_count": 98,
      "outputs": [
        {
          "output_type": "execute_result",
          "data": {
            "text/plain": [
              "         Open       Close        High\n",
              "0  778.200012  768.700012  781.650024\n",
              "1  767.250000  762.130005  769.950012\n",
              "2  750.659973  762.020020  770.359985"
            ],
            "text/html": [
              "\n",
              "  <div id=\"df-a82cd61e-aa7d-4766-88e9-5cfd37baa4d2\">\n",
              "    <div class=\"colab-df-container\">\n",
              "      <div>\n",
              "<style scoped>\n",
              "    .dataframe tbody tr th:only-of-type {\n",
              "        vertical-align: middle;\n",
              "    }\n",
              "\n",
              "    .dataframe tbody tr th {\n",
              "        vertical-align: top;\n",
              "    }\n",
              "\n",
              "    .dataframe thead th {\n",
              "        text-align: right;\n",
              "    }\n",
              "</style>\n",
              "<table border=\"1\" class=\"dataframe\">\n",
              "  <thead>\n",
              "    <tr style=\"text-align: right;\">\n",
              "      <th></th>\n",
              "      <th>Open</th>\n",
              "      <th>Close</th>\n",
              "      <th>High</th>\n",
              "    </tr>\n",
              "  </thead>\n",
              "  <tbody>\n",
              "    <tr>\n",
              "      <th>0</th>\n",
              "      <td>778.200012</td>\n",
              "      <td>768.700012</td>\n",
              "      <td>781.650024</td>\n",
              "    </tr>\n",
              "    <tr>\n",
              "      <th>1</th>\n",
              "      <td>767.250000</td>\n",
              "      <td>762.130005</td>\n",
              "      <td>769.950012</td>\n",
              "    </tr>\n",
              "    <tr>\n",
              "      <th>2</th>\n",
              "      <td>750.659973</td>\n",
              "      <td>762.020020</td>\n",
              "      <td>770.359985</td>\n",
              "    </tr>\n",
              "  </tbody>\n",
              "</table>\n",
              "</div>\n",
              "      <button class=\"colab-df-convert\" onclick=\"convertToInteractive('df-a82cd61e-aa7d-4766-88e9-5cfd37baa4d2')\"\n",
              "              title=\"Convert this dataframe to an interactive table.\"\n",
              "              style=\"display:none;\">\n",
              "        \n",
              "  <svg xmlns=\"http://www.w3.org/2000/svg\" height=\"24px\"viewBox=\"0 0 24 24\"\n",
              "       width=\"24px\">\n",
              "    <path d=\"M0 0h24v24H0V0z\" fill=\"none\"/>\n",
              "    <path d=\"M18.56 5.44l.94 2.06.94-2.06 2.06-.94-2.06-.94-.94-2.06-.94 2.06-2.06.94zm-11 1L8.5 8.5l.94-2.06 2.06-.94-2.06-.94L8.5 2.5l-.94 2.06-2.06.94zm10 10l.94 2.06.94-2.06 2.06-.94-2.06-.94-.94-2.06-.94 2.06-2.06.94z\"/><path d=\"M17.41 7.96l-1.37-1.37c-.4-.4-.92-.59-1.43-.59-.52 0-1.04.2-1.43.59L10.3 9.45l-7.72 7.72c-.78.78-.78 2.05 0 2.83L4 21.41c.39.39.9.59 1.41.59.51 0 1.02-.2 1.41-.59l7.78-7.78 2.81-2.81c.8-.78.8-2.07 0-2.86zM5.41 20L4 18.59l7.72-7.72 1.47 1.35L5.41 20z\"/>\n",
              "  </svg>\n",
              "      </button>\n",
              "      \n",
              "  <style>\n",
              "    .colab-df-container {\n",
              "      display:flex;\n",
              "      flex-wrap:wrap;\n",
              "      gap: 12px;\n",
              "    }\n",
              "\n",
              "    .colab-df-convert {\n",
              "      background-color: #E8F0FE;\n",
              "      border: none;\n",
              "      border-radius: 50%;\n",
              "      cursor: pointer;\n",
              "      display: none;\n",
              "      fill: #1967D2;\n",
              "      height: 32px;\n",
              "      padding: 0 0 0 0;\n",
              "      width: 32px;\n",
              "    }\n",
              "\n",
              "    .colab-df-convert:hover {\n",
              "      background-color: #E2EBFA;\n",
              "      box-shadow: 0px 1px 2px rgba(60, 64, 67, 0.3), 0px 1px 3px 1px rgba(60, 64, 67, 0.15);\n",
              "      fill: #174EA6;\n",
              "    }\n",
              "\n",
              "    [theme=dark] .colab-df-convert {\n",
              "      background-color: #3B4455;\n",
              "      fill: #D2E3FC;\n",
              "    }\n",
              "\n",
              "    [theme=dark] .colab-df-convert:hover {\n",
              "      background-color: #434B5C;\n",
              "      box-shadow: 0px 1px 3px 1px rgba(0, 0, 0, 0.15);\n",
              "      filter: drop-shadow(0px 1px 2px rgba(0, 0, 0, 0.3));\n",
              "      fill: #FFFFFF;\n",
              "    }\n",
              "  </style>\n",
              "\n",
              "      <script>\n",
              "        const buttonEl =\n",
              "          document.querySelector('#df-a82cd61e-aa7d-4766-88e9-5cfd37baa4d2 button.colab-df-convert');\n",
              "        buttonEl.style.display =\n",
              "          google.colab.kernel.accessAllowed ? 'block' : 'none';\n",
              "\n",
              "        async function convertToInteractive(key) {\n",
              "          const element = document.querySelector('#df-a82cd61e-aa7d-4766-88e9-5cfd37baa4d2');\n",
              "          const dataTable =\n",
              "            await google.colab.kernel.invokeFunction('convertToInteractive',\n",
              "                                                     [key], {});\n",
              "          if (!dataTable) return;\n",
              "\n",
              "          const docLinkHtml = 'Like what you see? Visit the ' +\n",
              "            '<a target=\"_blank\" href=https://colab.research.google.com/notebooks/data_table.ipynb>data table notebook</a>'\n",
              "            + ' to learn more about interactive tables.';\n",
              "          element.innerHTML = '';\n",
              "          dataTable['output_type'] = 'display_data';\n",
              "          await google.colab.output.renderOutput(dataTable, element);\n",
              "          const docLink = document.createElement('div');\n",
              "          docLink.innerHTML = docLinkHtml;\n",
              "          element.appendChild(docLink);\n",
              "        }\n",
              "      </script>\n",
              "    </div>\n",
              "  </div>\n",
              "  "
            ]
          },
          "metadata": {},
          "execution_count": 98
        }
      ]
    },
    {
      "cell_type": "code",
      "source": [
        "# membuat skala data\n",
        "scaler = MinMaxScaler(feature_range=(0, 1))\n",
        "data = scaler.fit_transform(data)\n",
        "\n",
        "\n",
        "# membuat dataset dengan 90% data training dan 10% data testing\n",
        "train_size = int(len(data) * 0.9)\n",
        "train_data = data[:train_size] # 90% = 226\n",
        "\n",
        "test_data = data[train_size:]\n",
        "print(test_data)\n",
        "\n",
        "# membuat dataset dengan input dan output\n",
        "def create_dataset(data, look_back=1):\n",
        "    dataX, dataY = [], []\n",
        "    for i in range(len(data) - look_back): # print(len(data)) =252\n",
        "        dataX.append(data[i:(i + look_back),:])\n",
        "        dataY.append(data[i + look_back, :])\n",
        "    return np.array(dataX), np.array(dataY)\n",
        "\n",
        "# membuat dataset dengan input 2 hari sebelumnya dan output hari berikutnya\n",
        "look_back = 2\n",
        "trainX, trainY = create_dataset(train_data, look_back) #226,2\n",
        "testX, testY = create_dataset(test_data, look_back)   #252,2\n"
      ],
      "metadata": {
        "colab": {
          "base_uri": "https://localhost:8080/"
        },
        "id": "596_rgtyvV7h",
        "outputId": "26a22ad1-dd61-47ec-f7a1-e0789ffdd975"
      },
      "execution_count": 112,
      "outputs": [
        {
          "output_type": "stream",
          "name": "stdout",
          "text": [
            "[[0.35384637 0.60848795 0.3136339 ]\n",
            " [0.5805436  0.59140193 0.50578397]]\n"
          ]
        }
      ]
    },
    {
      "cell_type": "code",
      "source": [
        "# membuat model LSTM\n",
        "model = Sequential()\n",
        "model.add(LSTM(8, input_shape=(look_back, 3))) # jumlah kolom\n",
        "model.add(Dense(3))\n",
        "model.compile(loss='mean_squared_error', optimizer='adam')\n",
        "\n",
        "# melatih model dengan data training\n",
        "model.fit(trainX, trainY, epochs=3, batch_size=1, verbose=1)\n",
        "\n",
        "# melakukan prediksi dengan data testing\n",
        "trainPredict = model.predict(trainX)\n",
        "#testPredict = model.predict(testX)                                      #error\n",
        "\n",
        "# inverting data kembali ke nilai asli\n",
        "trainPredict = scaler.inverse_transform(trainPredict)\n",
        "trainY = scaler.inverse_transform(trainY)\n",
        "#testPredict = scaler.inverse_transform(testPredict)                       #Error\n",
        "#testY = scaler.inverse_transform(testY)                              #error\n",
        "\n",
        "# plot hasil prediksi dengan data training\n",
        "plt.plot(trainY[:,0], label='actual open')\n",
        "plt.plot(trainPredict[:,0], label='predicted open')\n",
        "plt.legend()\n",
        "plt.show()\n",
        "\n",
        "plt.plot(trainY[:,1], label='actual close')\n",
        "plt.plot(trainPredict[:,1], label='predicted close')\n",
        "plt.legend()\n",
        "plt.show()\n",
        "\n",
        "plt.plot(trainY[:,2], label='actual High')\n",
        "plt.plot(trainPredict[:,2], label='predicted High')\n",
        "plt.legend()\n",
        "plt.show()\n",
        "\n",
        "# plot hasil prediksi dengan data testing\n",
        "\n"
      ],
      "metadata": {
        "colab": {
          "base_uri": "https://localhost:8080/",
          "height": 883
        },
        "id": "9upfJ1zrm_B_",
        "outputId": "ca8cd422-e26a-4787-a144-9a72cd64fa81"
      },
      "execution_count": 113,
      "outputs": [
        {
          "output_type": "stream",
          "name": "stdout",
          "text": [
            "Epoch 1/3\n",
            "11/11 [==============================] - 2s 3ms/step - loss: 0.2766\n",
            "Epoch 2/3\n",
            "11/11 [==============================] - 0s 3ms/step - loss: 0.2557\n",
            "Epoch 3/3\n",
            "11/11 [==============================] - 0s 3ms/step - loss: 0.2388\n",
            "1/1 [==============================] - 0s 432ms/step\n"
          ]
        },
        {
          "output_type": "display_data",
          "data": {
            "text/plain": [
              "<Figure size 432x288 with 1 Axes>"
            ],
            "image/png": "[encoded data removed]"
          },
          "metadata": {
            "needs_background": "light"
          }
        },
        {
          "output_type": "display_data",
          "data": {
            "text/plain": [
              "<Figure size 432x288 with 1 Axes>"
            ],
            "image/png": "[encoded data removed]"
          },
          "metadata": {
            "needs_background": "light"
          }
        },
        {
          "output_type": "display_data",
          "data": {
            "text/plain": [
              "<Figure size 432x288 with 1 Axes>"
            ],
            "image/png": "[encoded data removed]"
          },
          "metadata": {
            "needs_background": "light"
          }
        }
      ]
    },
    {
      "cell_type": "code",
      "source": [
        "train_size = int(len(data) * 0.7)\n",
        "print(train_size)"
      ],
      "metadata": {
        "colab": {
          "base_uri": "https://localhost:8080/"
        },
        "id": "R6ek0EgwuURw",
        "outputId": "2503664d-4912-4b76-8afa-0dbe7e35b87a"
      },
      "execution_count": null,
      "outputs": [
        {
          "output_type": "stream",
          "name": "stdout",
          "text": [
            "2\n"
          ]
        }
      ]
    }
  ]
}
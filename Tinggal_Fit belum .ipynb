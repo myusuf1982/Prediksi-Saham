{
  "nbformat": 4,
  "nbformat_minor": 0,
  "metadata": {
    "colab": {
      "provenance": [],
      "authorship_tag": "ABX9TyPNsXhjKAzLq2JC9cX1f3ge",
      "include_colab_link": true
    },
    "kernelspec": {
      "name": "python3",
      "display_name": "Python 3"
    },
    "language_info": {
      "name": "python"
    }
  },
  "cells": [
    {
      "cell_type": "markdown",
      "metadata": {
        "id": "view-in-github",
        "colab_type": "text"
      },
      "source": [
        "<a href=\"https://colab.research.google.com/github/myusuf1982/Prediksi-Saham/blob/main/Tinggal_Fit%20belum%20.ipynb\" target=\"_parent\"><img src=\"https://colab.research.google.com/assets/colab-badge.svg\" alt=\"Open In Colab\"/></a>"
      ]
    },
    {
      "cell_type": "code",
      "execution_count": null,
      "metadata": {
        "colab": {
          "base_uri": "https://localhost:8080/"
        },
        "id": "2xvcpqoQkaGR",
        "outputId": "c9a9da3f-e52a-4b93-8d1d-b99d9a3856e4"
      },
      "outputs": [
        {
          "output_type": "stream",
          "name": "stdout",
          "text": [
            "Drive already mounted at /content/drive; to attempt to forcibly remount, call drive.mount(\"/content/drive\", force_remount=True).\n"
          ]
        }
      ],
      "source": [
        "import pandas as pd\n",
        "import numpy as np\n",
        "from keras.layers import Input, LSTM, Concatenate, Dense\n",
        "from keras.models import Model\n",
        "import matplotlib.pyplot as plt\n",
        "from sklearn.preprocessing import MinMaxScaler\n",
        "\n",
        "from google.colab import drive\n",
        "drive.mount('/content/drive')\n"
      ]
    },
    {
      "cell_type": "code",
      "source": [
        "# data preparation\n",
        "data = pd.read_csv(\"/content/drive/My Drive/GOOG-year.csv\")\n",
        "data =data[:10] # Juml row maksimal yang mau diambil sample 15 row\n",
        "\n",
        "# memilih kolom open dan close saja\n",
        "#data = data[['Open', 'Close','High','Low','Adj Close']] # all = Tanggal,Open,High,Low,Close,Adj Close,Volume\n",
        "data = data[['Open']]\n",
        "data.head()\n",
        "\n",
        "scaler = MinMaxScaler(feature_range=(0, 1))\n",
        "data = scaler.fit_transform(data)\n",
        "print(data)"
      ],
      "metadata": {
        "colab": {
          "base_uri": "https://localhost:8080/"
        },
        "id": "v5bz2NpOBfih",
        "outputId": "330fd413-fb1b-4fad-e717-b093e67e6576"
      },
      "execution_count": null,
      "outputs": [
        {
          "output_type": "stream",
          "name": "stdout",
          "text": [
            "[[0.70656182]\n",
            " [0.45882406]\n",
            " [0.08348419]\n",
            " [0.62285117]\n",
            " [0.82420912]\n",
            " [0.7459281 ]\n",
            " [1.        ]\n",
            " [0.21651594]\n",
            " [0.19524893]\n",
            " [0.        ]]\n"
          ]
        }
      ]
    },
    {
      "cell_type": "code",
      "source": [
        "# membuat dataset dengan 90% data training dan 10% data testing\n",
        "train_size = int(len(data) * 0.9) #226 total 252\n",
        "train_data = data[:train_size] # 90% = 226 -252 = 26\n",
        "test_data = data[train_size:]\n",
        "\n",
        "\n",
        "# membuat dataset dengan input dan output\n",
        "def create_dataset(data, look_back=1):\n",
        "    dataX, dataY = [], []\n",
        "    for i in range(len(data) - look_back): # print(len(data)) =252\n",
        "        dataX.append(data[i:(i + look_back),:])\n",
        "        dataY.append(data[i + look_back, :])\n",
        "        \n",
        "    #return np.array(dataX), np.array(dataY)\n",
        "    return np.array(dataX), np.array(dataY)\n",
        "\n",
        "# membuat dataset dengan input 2 hari sebelumnya dan output hari berikutnya\n",
        "look_back = 2\n",
        "trainX, trainY = create_dataset(train_data, look_back) #226,2\n",
        "testX, testY = create_dataset(test_data, look_back)   #252,2\n",
        "print(trainX)"
      ],
      "metadata": {
        "id": "KdHWNieHkhe9"
      },
      "execution_count": null,
      "outputs": []
    },
    {
      "cell_type": "code",
      "source": [
        "# membuat dataset dengan 90% data training dan 10% data testing\n",
        "train_size = int(len(data) * 0.9) #226 total 252\n",
        "train_data = data[:train_size] # 90% = 226 -252 = 26\n",
        "test_data = data[train_size:]\n",
        "\n",
        "original_array=np.array(train_data)\n",
        "new_array = original_array.ravel()\n",
        "print(new_array)\n",
        "\n",
        "#input data\n",
        "open_data =new_array # data['Open'].values\n",
        "close_data = new_array # data['Close'].values\n",
        "high_data = new_array # data['High'].values\n",
        "low_data = new_array # data['Low'].values\n",
        "volume_data = new_array #  data['Volume'].values\n",
        "\n",
        "#reshape data\n",
        "open_data = open_data.reshape((len(open_data), 1,1))\n",
        "close_data = close_data.reshape((len(close_data),1, 1))\n",
        "high_data = high_data.reshape((len(high_data), 1,1))\n",
        "low_data = low_data.reshape((len(low_data), 1,1))\n",
        "volume_data = volume_data.reshape((len(volume_data),1, 1))\n",
        "print(open_data)"
      ],
      "metadata": {
        "id": "FIw9PzZtXK4Z"
      },
      "execution_count": null,
      "outputs": []
    },
    {
      "cell_type": "code",
      "source": [
        "#input layer / Setting variable jadi 3 dimensi\n",
        "open_in = Input(shape=(1,1))\n",
        "close_in = Input(shape=(1,1))\n",
        "high_in = Input(shape=(1,1))\n",
        "low_in = Input(shape=(1,1))\n",
        "volume_in = Input(shape=(1,1))\n",
        "\n",
        "#LSTM layer\n",
        "open_lstm = LSTM(50)(open_in)\n",
        "close_lstm = LSTM(50)(close_in)\n",
        "high_lstm = LSTM(50)(high_in)\n",
        "low_lstm = LSTM(50)(low_in)\n",
        "volume_lstm = LSTM(50)(volume_in)\n",
        "\n"
      ],
      "metadata": {
        "id": "Vv8HG2kTkklz"
      },
      "execution_count": null,
      "outputs": []
    },
    {
      "cell_type": "code",
      "source": [
        "#concatenate layer\n",
        "merged = Concatenate()([open_lstm, close_lstm, high_lstm, low_lstm, volume_lstm])\n",
        "\n",
        "#output layer\n",
        "output = Dense(1)(merged)\n",
        "\n",
        "#model\n",
        "model = Model([open_in, close_in, high_in, low_in, volume_in], output)\n",
        "model.compile(loss='mean_absolute_error', optimizer='adam')\n",
        "\n",
        "#fit model\n",
        "model.fit([open_data, close_data, high_data, low_data, volume_data], data['open_data'], epochs=10, batch_size=32)\n",
        "#model.fit([open_data, close_data, high_data, low_data, volume_data], data['Next_Close'], epochs=10, batch_size=32) # buatkan datanya"
      ],
      "metadata": {
        "colab": {
          "base_uri": "https://localhost:8080/",
          "height": 217
        },
        "id": "LnneW5_Skmpz",
        "outputId": "b3c23375-fffc-4c02-ffc3-26086ef18e63"
      },
      "execution_count": null,
      "outputs": [
        {
          "output_type": "error",
          "ename": "IndexError",
          "evalue": "ignored",
          "traceback": [
            "\u001b[0;31m---------------------------------------------------------------------------\u001b[0m",
            "\u001b[0;31mIndexError\u001b[0m                                Traceback (most recent call last)",
            "\u001b[0;32m<ipython-input-65-7cc346e85d09>\u001b[0m in \u001b[0;36m<module>\u001b[0;34m\u001b[0m\n\u001b[1;32m     10\u001b[0m \u001b[0;34m\u001b[0m\u001b[0m\n\u001b[1;32m     11\u001b[0m \u001b[0;31m#fit model\u001b[0m\u001b[0;34m\u001b[0m\u001b[0;34m\u001b[0m\u001b[0;34m\u001b[0m\u001b[0m\n\u001b[0;32m---> 12\u001b[0;31m \u001b[0mmodel\u001b[0m\u001b[0;34m.\u001b[0m\u001b[0mfit\u001b[0m\u001b[0;34m(\u001b[0m\u001b[0;34m[\u001b[0m\u001b[0mopen_data\u001b[0m\u001b[0;34m,\u001b[0m \u001b[0mclose_data\u001b[0m\u001b[0;34m,\u001b[0m \u001b[0mhigh_data\u001b[0m\u001b[0;34m,\u001b[0m \u001b[0mlow_data\u001b[0m\u001b[0;34m,\u001b[0m \u001b[0mvolume_data\u001b[0m\u001b[0;34m]\u001b[0m\u001b[0;34m,\u001b[0m \u001b[0mdata\u001b[0m\u001b[0;34m[\u001b[0m\u001b[0;34m'open_data'\u001b[0m\u001b[0;34m]\u001b[0m\u001b[0;34m,\u001b[0m \u001b[0mepochs\u001b[0m\u001b[0;34m=\u001b[0m\u001b[0;36m100\u001b[0m\u001b[0;34m,\u001b[0m \u001b[0mbatch_size\u001b[0m\u001b[0;34m=\u001b[0m\u001b[0;36m32\u001b[0m\u001b[0;34m)\u001b[0m\u001b[0;34m\u001b[0m\u001b[0;34m\u001b[0m\u001b[0m\n\u001b[0m\u001b[1;32m     13\u001b[0m \u001b[0;31m#model.fit([open_data, close_data, high_data, low_data, volume_data], data['Next_Close'], epochs=10, batch_size=32) # buatkan datanya\u001b[0m\u001b[0;34m\u001b[0m\u001b[0;34m\u001b[0m\u001b[0;34m\u001b[0m\u001b[0m\n",
            "\u001b[0;31mIndexError\u001b[0m: only integers, slices (`:`), ellipsis (`...`), numpy.newaxis (`None`) and integer or boolean arrays are valid indices"
          ]
        }
      ]
    },
    {
      "cell_type": "code",
      "source": [
        "#predict\n",
        "predictions = model.predict([open_data, close_data, high_data, low_data, volume_data])\n",
        "\n",
        "#evaluate\n",
        "error = model.evaluate([open_data, close_data, high_data, low_data, volume_data], data['Close'])\n",
        "print(\"Absolute Mean Error: \", error)\n",
        "\n",
        "#plot\n",
        "plt.plot(predictions, label='Predictions')\n",
        "#plt.plot(data['Next_Close'], label='Actual')\n",
        "plt.plot(data['Close'], label='Actual') # buatkan datanya\n",
        "plt.legend()\n",
        "plt.show()"
      ],
      "metadata": {
        "colab": {
          "base_uri": "https://localhost:8080/",
          "height": 317
        },
        "id": "K1tFvsntkppS",
        "outputId": "a7b40c07-dabc-48ef-fe2e-e718ac833898"
      },
      "execution_count": null,
      "outputs": [
        {
          "output_type": "stream",
          "name": "stdout",
          "text": [
            "8/8 [==============================] - 2s 2ms/step\n",
            "8/8 [==============================] - 1s 2ms/step - loss: 834.5405\n",
            "Absolute Mean Error:  834.5404663085938\n"
          ]
        },
        {
          "output_type": "display_data",
          "data": {
            "text/plain": [
              "<Figure size 432x288 with 1 Axes>"
            ],
            "image/png": "[encoded data removed]"
          },
          "metadata": {
            "needs_background": "light"
          }
        }
      ]
    }
  ]
}
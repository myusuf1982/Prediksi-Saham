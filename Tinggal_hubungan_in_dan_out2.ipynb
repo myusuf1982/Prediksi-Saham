{
  "nbformat": 4,
  "nbformat_minor": 0,
  "metadata": {
    "colab": {
      "provenance": [],
      "authorship_tag": "ABX9TyPPU49kVgEn/bs92aD8AtZx",
      "include_colab_link": true
    },
    "kernelspec": {
      "name": "python3",
      "display_name": "Python 3"
    },
    "language_info": {
      "name": "python"
    }
  },
  "cells": [
    {
      "cell_type": "markdown",
      "metadata": {
        "id": "view-in-github",
        "colab_type": "text"
      },
      "source": [
        "<a href=\"https://colab.research.google.com/github/myusuf1982/Prediksi-Saham/blob/main/Tinggal_hubungan_in_dan_out2.ipynb\" target=\"_parent\"><img src=\"https://colab.research.google.com/assets/colab-badge.svg\" alt=\"Open In Colab\"/></a>"
      ]
    },
    {
      "cell_type": "code",
      "execution_count": 97,
      "metadata": {
        "colab": {
          "base_uri": "https://localhost:8080/"
        },
        "id": "2xvcpqoQkaGR",
        "outputId": "207f0254-b44f-40e9-c8e1-d685ad27e38a"
      },
      "outputs": [
        {
          "output_type": "stream",
          "name": "stdout",
          "text": [
            "Drive already mounted at /content/drive; to attempt to forcibly remount, call drive.mount(\"/content/drive\", force_remount=True).\n"
          ]
        }
      ],
      "source": [
        "import pandas as pd\n",
        "import numpy as np\n",
        "from keras.layers import Input, LSTM, Concatenate, Dense\n",
        "from keras.models import Model\n",
        "import matplotlib.pyplot as plt\n",
        "from sklearn.preprocessing import MinMaxScaler\n",
        "\n",
        "from google.colab import drive\n",
        "drive.mount('/content/drive')\n"
      ]
    },
    {
      "cell_type": "code",
      "source": [
        "# data preparation\n",
        "raw_data = pd.read_csv(\"/content/drive/My Drive/GOOG-year.csv\")\n",
        "#raw_data =raw_data[:50] # Juml row maksimal yang mau diambil sample 15 row\n",
        "\n",
        "# memilih kolom open dan close saja\n",
        "raw_data = raw_data[['Open', 'Close','High','Low','Adj Close']] # all = Tanggal,Open,High,Low,Close,Adj Close,Volume\n",
        "raw_data.head()"
      ],
      "metadata": {
        "id": "v5bz2NpOBfih",
        "colab": {
          "base_uri": "https://localhost:8080/",
          "height": 206
        },
        "outputId": "db81edb8-763a-4ddf-9a61-ead4f52f5c65"
      },
      "execution_count": 142,
      "outputs": [
        {
          "output_type": "execute_result",
          "data": {
            "text/plain": [
              "         Open       Close        High         Low   Adj Close\n",
              "0  778.200012  768.700012  781.650024  763.450012  768.700012\n",
              "1  767.250000  762.130005  769.950012  759.030029  762.130005\n",
              "2  750.659973  762.020020  770.359985  750.560974  762.020020\n",
              "3  774.500000  782.520020  785.190002  772.549988  782.520020\n",
              "4  783.400024  790.510010  795.632996  780.190002  790.510010"
            ],
            "text/html": [
              "\n",
              "  <div id=\"df-34247089-7731-4d93-aa7d-c866a6b3b27f\">\n",
              "    <div class=\"colab-df-container\">\n",
              "      <div>\n",
              "<style scoped>\n",
              "    .dataframe tbody tr th:only-of-type {\n",
              "        vertical-align: middle;\n",
              "    }\n",
              "\n",
              "    .dataframe tbody tr th {\n",
              "        vertical-align: top;\n",
              "    }\n",
              "\n",
              "    .dataframe thead th {\n",
              "        text-align: right;\n",
              "    }\n",
              "</style>\n",
              "<table border=\"1\" class=\"dataframe\">\n",
              "  <thead>\n",
              "    <tr style=\"text-align: right;\">\n",
              "      <th></th>\n",
              "      <th>Open</th>\n",
              "      <th>Close</th>\n",
              "      <th>High</th>\n",
              "      <th>Low</th>\n",
              "      <th>Adj Close</th>\n",
              "    </tr>\n",
              "  </thead>\n",
              "  <tbody>\n",
              "    <tr>\n",
              "      <th>0</th>\n",
              "      <td>778.200012</td>\n",
              "      <td>768.700012</td>\n",
              "      <td>781.650024</td>\n",
              "      <td>763.450012</td>\n",
              "      <td>768.700012</td>\n",
              "    </tr>\n",
              "    <tr>\n",
              "      <th>1</th>\n",
              "      <td>767.250000</td>\n",
              "      <td>762.130005</td>\n",
              "      <td>769.950012</td>\n",
              "      <td>759.030029</td>\n",
              "      <td>762.130005</td>\n",
              "    </tr>\n",
              "    <tr>\n",
              "      <th>2</th>\n",
              "      <td>750.659973</td>\n",
              "      <td>762.020020</td>\n",
              "      <td>770.359985</td>\n",
              "      <td>750.560974</td>\n",
              "      <td>762.020020</td>\n",
              "    </tr>\n",
              "    <tr>\n",
              "      <th>3</th>\n",
              "      <td>774.500000</td>\n",
              "      <td>782.520020</td>\n",
              "      <td>785.190002</td>\n",
              "      <td>772.549988</td>\n",
              "      <td>782.520020</td>\n",
              "    </tr>\n",
              "    <tr>\n",
              "      <th>4</th>\n",
              "      <td>783.400024</td>\n",
              "      <td>790.510010</td>\n",
              "      <td>795.632996</td>\n",
              "      <td>780.190002</td>\n",
              "      <td>790.510010</td>\n",
              "    </tr>\n",
              "  </tbody>\n",
              "</table>\n",
              "</div>\n",
              "      <button class=\"colab-df-convert\" onclick=\"convertToInteractive('df-34247089-7731-4d93-aa7d-c866a6b3b27f')\"\n",
              "              title=\"Convert this dataframe to an interactive table.\"\n",
              "              style=\"display:none;\">\n",
              "        \n",
              "  <svg xmlns=\"http://www.w3.org/2000/svg\" height=\"24px\"viewBox=\"0 0 24 24\"\n",
              "       width=\"24px\">\n",
              "    <path d=\"M0 0h24v24H0V0z\" fill=\"none\"/>\n",
              "    <path d=\"M18.56 5.44l.94 2.06.94-2.06 2.06-.94-2.06-.94-.94-2.06-.94 2.06-2.06.94zm-11 1L8.5 8.5l.94-2.06 2.06-.94-2.06-.94L8.5 2.5l-.94 2.06-2.06.94zm10 10l.94 2.06.94-2.06 2.06-.94-2.06-.94-.94-2.06-.94 2.06-2.06.94z\"/><path d=\"M17.41 7.96l-1.37-1.37c-.4-.4-.92-.59-1.43-.59-.52 0-1.04.2-1.43.59L10.3 9.45l-7.72 7.72c-.78.78-.78 2.05 0 2.83L4 21.41c.39.39.9.59 1.41.59.51 0 1.02-.2 1.41-.59l7.78-7.78 2.81-2.81c.8-.78.8-2.07 0-2.86zM5.41 20L4 18.59l7.72-7.72 1.47 1.35L5.41 20z\"/>\n",
              "  </svg>\n",
              "      </button>\n",
              "      \n",
              "  <style>\n",
              "    .colab-df-container {\n",
              "      display:flex;\n",
              "      flex-wrap:wrap;\n",
              "      gap: 12px;\n",
              "    }\n",
              "\n",
              "    .colab-df-convert {\n",
              "      background-color: #E8F0FE;\n",
              "      border: none;\n",
              "      border-radius: 50%;\n",
              "      cursor: pointer;\n",
              "      display: none;\n",
              "      fill: #1967D2;\n",
              "      height: 32px;\n",
              "      padding: 0 0 0 0;\n",
              "      width: 32px;\n",
              "    }\n",
              "\n",
              "    .colab-df-convert:hover {\n",
              "      background-color: #E2EBFA;\n",
              "      box-shadow: 0px 1px 2px rgba(60, 64, 67, 0.3), 0px 1px 3px 1px rgba(60, 64, 67, 0.15);\n",
              "      fill: #174EA6;\n",
              "    }\n",
              "\n",
              "    [theme=dark] .colab-df-convert {\n",
              "      background-color: #3B4455;\n",
              "      fill: #D2E3FC;\n",
              "    }\n",
              "\n",
              "    [theme=dark] .colab-df-convert:hover {\n",
              "      background-color: #434B5C;\n",
              "      box-shadow: 0px 1px 3px 1px rgba(0, 0, 0, 0.15);\n",
              "      filter: drop-shadow(0px 1px 2px rgba(0, 0, 0, 0.3));\n",
              "      fill: #FFFFFF;\n",
              "    }\n",
              "  </style>\n",
              "\n",
              "      <script>\n",
              "        const buttonEl =\n",
              "          document.querySelector('#df-34247089-7731-4d93-aa7d-c866a6b3b27f button.colab-df-convert');\n",
              "        buttonEl.style.display =\n",
              "          google.colab.kernel.accessAllowed ? 'block' : 'none';\n",
              "\n",
              "        async function convertToInteractive(key) {\n",
              "          const element = document.querySelector('#df-34247089-7731-4d93-aa7d-c866a6b3b27f');\n",
              "          const dataTable =\n",
              "            await google.colab.kernel.invokeFunction('convertToInteractive',\n",
              "                                                     [key], {});\n",
              "          if (!dataTable) return;\n",
              "\n",
              "          const docLinkHtml = 'Like what you see? Visit the ' +\n",
              "            '<a target=\"_blank\" href=https://colab.research.google.com/notebooks/data_table.ipynb>data table notebook</a>'\n",
              "            + ' to learn more about interactive tables.';\n",
              "          element.innerHTML = '';\n",
              "          dataTable['output_type'] = 'display_data';\n",
              "          await google.colab.output.renderOutput(dataTable, element);\n",
              "          const docLink = document.createElement('div');\n",
              "          docLink.innerHTML = docLinkHtml;\n",
              "          element.appendChild(docLink);\n",
              "        }\n",
              "      </script>\n",
              "    </div>\n",
              "  </div>\n",
              "  "
            ]
          },
          "metadata": {},
          "execution_count": 142
        }
      ]
    },
    {
      "cell_type": "code",
      "source": [
        "data = raw_data[['Open']]\n",
        "scaler = MinMaxScaler(feature_range=(0, 1))\n",
        "open = scaler.fit_transform(data)\n",
        "\n",
        "data = raw_data[['Close']]\n",
        "scaler = MinMaxScaler(feature_range=(0, 1))\n",
        "close = scaler.fit_transform(data)\n",
        "\n",
        "data = raw_data[['High']]\n",
        "scaler = MinMaxScaler(feature_range=(0, 1))\n",
        "high = scaler.fit_transform(data)\n",
        "\n",
        "data = raw_data[['Low']]\n",
        "scaler = MinMaxScaler(feature_range=(0, 1))\n",
        "low = scaler.fit_transform(data)\n",
        "\n",
        "data = raw_data[['Adj Close']]\n",
        "scaler = MinMaxScaler(feature_range=(0, 1))\n",
        "adj = scaler.fit_transform(data)\n",
        "\n"
      ],
      "metadata": {
        "id": "m40Hy4GAV74w"
      },
      "execution_count": 155,
      "outputs": []
    },
    {
      "cell_type": "code",
      "source": [
        "# membuat dataset dengan 90% data training dan 10% data testing\n",
        "train_size = int(len(open) * 0.5) #226 total 252\n",
        "\n",
        "#Dataset training data 90%\n",
        "train_data = open[:train_size] # 90% = 226 -252 = 26  /Train 90%\n",
        "original_array=np.array(train_data) #trainX & trainY\n",
        "open = original_array.ravel()   \n",
        "\n",
        "#Dataset training data 90%\n",
        "train_data = close[:train_size] # 90% = 226 -252 = 26  /Train 90%\n",
        "original_array=np.array(train_data) #trainX & trainY\n",
        "close = original_array.ravel()   \n",
        "\n",
        "#Dataset training data 90%\n",
        "train_data = high[:train_size] # 90% = 226 -252 = 26  /Train 90%\n",
        "original_array=np.array(train_data) #trainX & trainY\n",
        "high = original_array.ravel()   \n",
        "\n",
        "#Dataset training data 90%\n",
        "train_data = low[:train_size] # 90% = 226 -252 = 26  /Train 90%\n",
        "original_array=np.array(train_data) #trainX & trainY\n",
        "low = original_array.ravel()   \n",
        "\n",
        "#Dataset training data 90%\n",
        "train_data = adj[:train_size] # 90% = 226 -252 = 26  /Train 90%\n",
        "original_array=np.array(train_data) #trainX & trainY\n",
        "adj = original_array.ravel()   \n",
        "\n",
        "#Dataset test data 10%\n",
        "#test_data = close[train_size:] # 90% = 226 -252 = 26  /Train 90%\n",
        "#original_array1=np.array(test_data) #trainX & trainY\n",
        "#open_test = original_array1.ravel()   \n",
        "\n",
        "\n",
        "#reshape data ke 3D\n",
        "open_data = open.reshape((len(open), 1,1))\n",
        "close_data = close.reshape((len(close),1, 1))\n",
        "high_data = high.reshape((len(high), 1,1))\n",
        "low_data = low.reshape((len(low), 1,1))\n",
        "volume_data = adj.reshape((len(adj),1, 1))"
      ],
      "metadata": {
        "id": "FIw9PzZtXK4Z"
      },
      "execution_count": 156,
      "outputs": []
    },
    {
      "cell_type": "code",
      "source": [
        "#input layer / Setting variable jadi 3 dimensi\n",
        "open_in = Input(shape=(1,1))\n",
        "close_in = Input(shape=(1,1))\n",
        "high_in = Input(shape=(1,1))\n",
        "low_in = Input(shape=(1,1))\n",
        "volume_in = Input(shape=(1,1))\n",
        "\n",
        "#LSTM layer\n",
        "open_lstm = LSTM(50)(open_in)\n",
        "close_lstm = LSTM(50)(close_in)\n",
        "high_lstm = LSTM(50)(high_in)\n",
        "low_lstm = LSTM(50)(low_in)\n",
        "volume_lstm = LSTM(50)(volume_in)"
      ],
      "metadata": {
        "id": "Vv8HG2kTkklz"
      },
      "execution_count": 157,
      "outputs": []
    },
    {
      "cell_type": "code",
      "source": [
        "#concatenate layer\n",
        "merged = Concatenate()([open_lstm, close_lstm, high_lstm, low_lstm, volume_lstm])\n",
        "\n",
        "#output layer\n",
        "output = Dense(1)(merged)\n",
        "\n",
        "#model\n",
        "model = Model([open_in, close_in, high_in, low_in, volume_in], output)\n",
        "model.compile(loss='mean_absolute_error', optimizer='adam')\n",
        "\n",
        "#fit model\n",
        "model.fit([open_data, close_data, high_data, low_data, volume_data], open_data, epochs=3, batch_size=32)\n",
        "#model.fit([open_data, close_data, high_data, low_data, volume_data], data['Next_Close'], epochs=5, batch_size=32) # buatkan datanya"
      ],
      "metadata": {
        "colab": {
          "base_uri": "https://localhost:8080/"
        },
        "id": "LnneW5_Skmpz",
        "outputId": "cd14e487-8476-41be-ef02-2339d8679645"
      },
      "execution_count": 158,
      "outputs": [
        {
          "output_type": "stream",
          "name": "stdout",
          "text": [
            "Epoch 1/3\n",
            "4/4 [==============================] - 11s 9ms/step - loss: 0.2418\n",
            "Epoch 2/3\n",
            "4/4 [==============================] - 0s 8ms/step - loss: 0.2090\n",
            "Epoch 3/3\n",
            "4/4 [==============================] - 0s 8ms/step - loss: 0.1787\n"
          ]
        },
        {
          "output_type": "execute_result",
          "data": {
            "text/plain": [
              "<keras.callbacks.History at 0x7f051b1af280>"
            ]
          },
          "metadata": {},
          "execution_count": 158
        }
      ]
    },
    {
      "cell_type": "code",
      "source": [
        "#predict data dari hasil training\n",
        "predictions = model.predict([open_data, close_data, high_data, low_data, volume_data])\n",
        "\n",
        "#evaluate\n",
        "error = model.evaluate([open_data, close_data, high_data, low_data, volume_data], open_data)   #error = model.evaluate([open_data, close_data, high_data, low_data, volume_data], data['Close'])\n",
        "print(\"Absolute Mean Error: \", error)\n",
        "#train_data1=train_data\n",
        "\n",
        "# inverting data kembali ke nilai asli\n",
        "predictions = scaler.inverse_transform(predictions) #2D\n",
        "train_data=train_data.reshape(-1, 1) #ubah ke 2D\n",
        "train_data   = scaler.inverse_transform(train_data) # cuma sekali presiksi saja karean bisa ke scaller 2 x\n",
        "\n",
        "#test_data   = scaler.inverse_transform(test_data)\n",
        "#testPredict = scaler.inverse_transform(testPredict)                       \n",
        "#testY = scaler.inverse_transform(testY)     \n",
        "\n",
        "#plot\n",
        "plt.plot(predictions, label='Predictions')\n",
        "#plt.plot(data['Next_Close'], label='Actual')\n",
        "#plt.plot(new_array1, label='Actual') # buatkan datanya\n",
        "plt.plot(train_data, label='Hasil Training') # buatkan datanya\n",
        "\n",
        "plt.legend()\n",
        "plt.show()"
      ],
      "metadata": {
        "colab": {
          "base_uri": "https://localhost:8080/",
          "height": 317
        },
        "id": "K1tFvsntkppS",
        "outputId": "e8d577dc-bba0-4b7c-ac68-a8158188102c"
      },
      "execution_count": 159,
      "outputs": [
        {
          "output_type": "stream",
          "name": "stdout",
          "text": [
            "4/4 [==============================] - 2s 4ms/step\n",
            "4/4 [==============================] - 2s 6ms/step - loss: 0.1595\n",
            "Absolute Mean Error:  0.15951332449913025\n"
          ]
        },
        {
          "output_type": "display_data",
          "data": {
            "text/plain": [
              "<Figure size 432x288 with 1 Axes>"
            ],
            "image/png": "[encoded data removed]"
          },
          "metadata": {
            "needs_background": "light"
          }
        }
      ]
    },
    {
      "cell_type": "code",
      "source": [
        "\n",
        "#predict data dari BUKAN hasil training\n",
        "# membuat dataset dengan 90% data training dan 10% data testing\n",
        "#train_size = int(len(open) * 0.5) #226 total 252 # sudah di atas\n",
        "data = raw_data[['Open']]\n",
        "scaler = MinMaxScaler(feature_range=(0, 1))\n",
        "open = scaler.fit_transform(data)\n",
        "\n",
        "data = raw_data[['Close']]\n",
        "scaler = MinMaxScaler(feature_range=(0, 1))\n",
        "close = scaler.fit_transform(data)\n",
        "\n",
        "data = raw_data[['High']]\n",
        "scaler = MinMaxScaler(feature_range=(0, 1))\n",
        "high = scaler.fit_transform(data)\n",
        "\n",
        "data = raw_data[['Low']]\n",
        "scaler = MinMaxScaler(feature_range=(0, 1))\n",
        "low = scaler.fit_transform(data)\n",
        "\n",
        "data = raw_data[['Adj Close']]\n",
        "scaler = MinMaxScaler(feature_range=(0, 1))\n",
        "adj = scaler.fit_transform(data)\n",
        "\n",
        "\n",
        "#Dataset training data 10%\n",
        "train_data = open[train_size:] # 90% = 226 -252 = 26  /Train 90%\n",
        "original_array=np.array(train_data) #trainX & trainY\n",
        "open = original_array.ravel()   \n",
        "\n",
        "#Dataset training data 10%\n",
        "train_data = close[train_size:] # 90% = 226 -252 = 26  /Train 90%\n",
        "original_array=np.array(train_data) #trainX & trainY\n",
        "close = original_array.ravel()   \n",
        "\n",
        "#Dataset training data 10%\n",
        "train_data = high[train_size:] # 90% = 226 -252 = 26  /Train 90%\n",
        "original_array=np.array(train_data) #trainX & trainY\n",
        "high = original_array.ravel()   \n",
        "\n",
        "#Dataset training data 10%\n",
        "train_data = low[train_size:] # 90% = 226 -252 = 26  /Train 90%\n",
        "original_array=np.array(train_data) #trainX & trainY\n",
        "low = original_array.ravel()   \n",
        "\n",
        "#Dataset training data 10%\n",
        "train_data = adj[train_size:] # 90% = 226 -252 = 26  /Train 90%\n",
        "original_array=np.array(train_data) #trainX & trainY\n",
        "adj = original_array.ravel()   \n",
        "\n",
        "\n",
        "#reshape data ke 3D\n",
        "open_data = open.reshape((len(open), 1,1))\n",
        "close_data = close.reshape((len(close),1, 1))\n",
        "high_data = high.reshape((len(high), 1,1))\n",
        "low_data = low.reshape((len(low), 1,1))\n",
        "volume_data = adj.reshape((len(adj),1, 1))\n",
        "\n",
        "#Predict data belum pernah training \n",
        "model.compile(loss='mean_absolute_error', optimizer='adam')\n",
        "predictions = model.predict([open_data, close_data, high_data, low_data, low_data])\n",
        "\n",
        "#evaluate\n",
        "error = model.evaluate([open_data, close_data, high_data, low_data, volume_data], open_data)   #error = model.evaluate([open_data, close_data, high_data, low_data, volume_data], data['Close'])\n",
        "print(\"Absolute Mean Error: \", error)\n",
        "#train_data1=train_data\n",
        "\n",
        "# inverting data kembali ke nilai asli\n",
        "predictions = scaler.inverse_transform(predictions) #2D\n",
        "\n",
        "open   =open.reshape(-1, 1) #ubah ke 2D\n",
        "open   = scaler.inverse_transform(open) # cuma sekali presiksi saja karean bisa ke scaller 2 x\n",
        "\n",
        "\n",
        "#test_data   = scaler.inverse_transform(test_data)\n",
        "#testPredict = scaler.inverse_transform(testPredict)                       \n",
        "#testY = scaler.inverse_transform(testY)     \n",
        "\n",
        "#plot\n",
        "plt.plot(predictions, label='Predictions belum pernah training')\n",
        "plt.plot(open, label='aktual belum pernah training')\n",
        "\n",
        "plt.legend()\n",
        "plt.show()"
      ],
      "metadata": {
        "colab": {
          "base_uri": "https://localhost:8080/",
          "height": 317
        },
        "id": "VlYvy2mi586d",
        "outputId": "283d5c84-4266-4296-f203-fea1f54ca035"
      },
      "execution_count": 161,
      "outputs": [
        {
          "output_type": "stream",
          "name": "stdout",
          "text": [
            "4/4 [==============================] - 2s 4ms/step\n",
            "4/4 [==============================] - 2s 5ms/step - loss: 0.6030\n",
            "Absolute Mean Error:  0.602962851524353\n"
          ]
        },
        {
          "output_type": "display_data",
          "data": {
            "text/plain": [
              "<Figure size 432x288 with 1 Axes>"
            ],
            "image/png": "[encoded data removed]"
          },
          "metadata": {
            "needs_background": "light"
          }
        }
      ]
    }
  ]
}